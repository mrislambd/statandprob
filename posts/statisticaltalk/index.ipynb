{
  "cells": [
    {
      "cell_type": "markdown",
      "metadata": {},
      "source": [
        "# Some Key Statistical Concepts for Interview Prep\n",
        "\n",
        "Rafiq Islam  \n",
        "2024-05-09"
      ],
      "id": "8a35649c-7927-453b-9aa9-964056e721e7"
    },
    {
      "cell_type": "raw",
      "metadata": {
        "raw_mimetype": "text/html"
      },
      "source": [
        "<p style=\"text-align:justify\">"
      ],
      "id": "eef98395-983c-490e-84bc-6bec63c3d263"
    },
    {
      "cell_type": "markdown",
      "metadata": {},
      "source": [
        "In the world of data analysis and machine learning, statistics plays a\n",
        "vital role in making sense of the data. Whether you’re estimating\n",
        "parameters, testing hypotheses, or understanding relationships between\n",
        "variables, statistical concepts guide how we interpret data. In this\n",
        "post, I want to summarise and collect some fundamental statistical ideas\n",
        "that are quite common and asked in many data science, machine learning,\n",
        "and quant interviews"
      ],
      "id": "ff97b997-e2cb-4f5c-ab6a-e20c0529cc3a"
    },
    {
      "cell_type": "raw",
      "metadata": {
        "raw_mimetype": "text/html"
      },
      "source": [
        "</p>"
      ],
      "id": "902ae252-48ce-4737-97aa-fa3e544907a7"
    },
    {
      "cell_type": "markdown",
      "metadata": {},
      "source": [
        "## Basic Statistical Terminologies\n",
        "\n",
        "### The mean\n",
        "\n",
        "The **mean** is one of the most basic statistical concepts and\n",
        "represents the average value of a dataset. It’s calculated by summing\n",
        "all the values in a dataset and then dividing by the number of\n",
        "observations.\n",
        "\n",
        "Mathematically, for a set of discrete observations $x_1, x_2, ..., x_n$,\n",
        "the mean $\\mu$ or *Expected Value* is defined as:\n",
        "\n",
        "For a continuous random variable $X$, the mean  \n",
        "$$\n",
        "\\mu = \\mathbb{E}[X]=\\int_{-\\infty}^{\\infty}xf_X(x)dx\n",
        "$$"
      ],
      "id": "254886cc-128c-4d0f-9246-6735b95326ce"
    },
    {
      "cell_type": "raw",
      "metadata": {
        "raw_mimetype": "text/html"
      },
      "source": [
        "<p style=\"text-align: justify\">"
      ],
      "id": "d424b4c5-c29a-46c3-9e34-4a32e9311a83"
    },
    {
      "cell_type": "markdown",
      "metadata": {},
      "source": [
        "where, $\\mathbb{P}(X=x)$ is the *probability mass function (pmf)* and\n",
        "$f_X(x)$ is the *probability density function (pdf)* of the random\n",
        "variable $X$, depending on whether it is discrete or contineous type.\n",
        "The mean helps describe the central tendency of data, but it can be\n",
        "sensitive to outliers."
      ],
      "id": "5b3f9716-a052-4eac-99ef-420d6e1465f7"
    },
    {
      "cell_type": "raw",
      "metadata": {
        "raw_mimetype": "text/html"
      },
      "source": [
        "</p>"
      ],
      "id": "7b037bd3-20bb-4083-90fb-38421a74119d"
    },
    {
      "cell_type": "markdown",
      "metadata": {},
      "source": [
        "### Variance"
      ],
      "id": "7169a163-2d4a-4fc5-87bf-c5f422247de8"
    },
    {
      "cell_type": "raw",
      "metadata": {
        "raw_mimetype": "text/html"
      },
      "source": [
        "<p style=\"text-align: justify\">"
      ],
      "id": "5e87b7d3-c9d3-4972-b884-d1d358233bf9"
    },
    {
      "cell_type": "markdown",
      "metadata": {},
      "source": [
        "**Variance** measures the spread or dispersion of a dataset relative to\n",
        "its mean. It tells us how far the individual data points are from the\n",
        "mean. A small variance indicates that data points are clustered closely\n",
        "around the mean, while a large variance means they are spread out."
      ],
      "id": "d4a506a6-3781-477c-b044-9bf1b1f44787"
    },
    {
      "cell_type": "raw",
      "metadata": {
        "raw_mimetype": "text/html"
      },
      "source": [
        "</p>"
      ],
      "id": "4ff263fe-4237-4d03-92ad-89de4ef9e3c5"
    },
    {
      "cell_type": "markdown",
      "metadata": {},
      "source": [
        "The formula for variance $\\sigma^2$ is:\n",
        "\n",
        "However, the population and sample variance formula are slightly\n",
        "different. For discrete observations, the sample variance is given as\n",
        "\n",
        "$$ s= \\frac{1}{n-1} \\sum_{i=1}^{n} (x_i - \\mu)^2$$\n",
        "\n",
        "Instead of dividing by $n$ we devide by $n-1$ to have the sample\n",
        "variance unbiased and bigger than the population variance so that it\n",
        "contains the true population variance.\n",
        "\n",
        "**Examples**\n",
        "\n",
        "1.  Normal Distribution with mean $\\mu$ and variance $\\sigma^2$ has the\n",
        "    pdf\n",
        "    $f_{X}(x)=\\frac{1}{\\sqrt{2\\pi \\sigma^2}}\\exp{\\left[-\\frac{(x-\\mu)^2}{2\\sigma^2}\\right]}$  \n",
        "2.  Standard Normal Distribution with mean $0$ and variance $1$ has the\n",
        "    pdf\n",
        "    $f_{X}(x)=\\frac{1}{\\sqrt{2\\pi \\sigma^2}}\\exp{\\left[-\\frac{x^2}{2}\\right]}$  \n",
        "3.  Now if $\\log X\\sim \\mathbfcal{N}(0,1)$ then what is the distribution\n",
        "    of $X$?\n",
        "\n",
        "### Covariance"
      ],
      "id": "82c8945e-b411-4bcb-b4f0-cea8d030d3b3"
    },
    {
      "cell_type": "raw",
      "metadata": {
        "raw_mimetype": "text/html"
      },
      "source": [
        "<p style=\"text-align: justify\">"
      ],
      "id": "556313b5-ed3f-4b3c-b592-569855cf18dc"
    },
    {
      "cell_type": "markdown",
      "metadata": {},
      "source": [
        "**Covariance** measures how two variables move together. If the\n",
        "covariance is positive, the two variables tend to increase or decrease\n",
        "together. If negative, one variable tends to increase when the other\n",
        "decreases."
      ],
      "id": "86beb03b-d312-428b-aba6-7148fb1f56b5"
    },
    {
      "cell_type": "raw",
      "metadata": {
        "raw_mimetype": "text/html"
      },
      "source": [
        "</p>"
      ],
      "id": "bd649d89-c368-446b-a9c0-0ba498f61516"
    },
    {
      "cell_type": "markdown",
      "metadata": {},
      "source": [
        "The formula for covariance between two variables $X$ and $Y$ is:\n",
        "\n",
        "$$\n",
        "\\text{Cov}(X, Y) = \\frac{1}{n} \\sum_{i=1}^{n} (X_i - \\mu_X)(Y_i - \\mu_Y)\n",
        "$$\n",
        "\n",
        "However, covariance doesn’t indicate the strength of the relationship,\n",
        "which brings us to **correlation**.\n",
        "\n",
        "### Correlation"
      ],
      "id": "0d1a1b18-6b7a-468c-b8bd-93e6c2edc537"
    },
    {
      "cell_type": "raw",
      "metadata": {
        "raw_mimetype": "text/html"
      },
      "source": [
        "<p style=\"text-align: justify\">"
      ],
      "id": "6848de30-5647-4486-b35d-6f98b70740ca"
    },
    {
      "cell_type": "markdown",
      "metadata": {},
      "source": [
        "**Correlation** is a standardized measure of the relationship between\n",
        "two variables. It ranges from $-1$ to $1$, where $1$ indicates a perfect\n",
        "positive relationship, $-1$ a perfect negative relationship, and $0$ no\n",
        "relationship."
      ],
      "id": "b0e9a319-cc78-4a0e-8017-0ba00d8430b9"
    },
    {
      "cell_type": "raw",
      "metadata": {
        "raw_mimetype": "text/html"
      },
      "source": [
        "</p>"
      ],
      "id": "f46f9654-1f00-4984-a988-eceb0221b955"
    },
    {
      "cell_type": "markdown",
      "metadata": {},
      "source": [
        "The most common correlation metric is **Pearson correlation**, defined\n",
        "as:\n",
        "\n",
        "$$\n",
        "\\rho(X, Y) = \\frac{\\text{Cov}(X, Y)}{\\sigma_X \\sigma_Y}\n",
        "$$\n",
        "\n",
        "Unlike covariance, correlation gives a clearer picture of the strength\n",
        "and direction of a linear relationship between variables.\n",
        "\n",
        "### P-Values and Hypothesis Testing"
      ],
      "id": "7c5360fe-0e5f-4e81-b0c1-f1b6c198845e"
    },
    {
      "cell_type": "raw",
      "metadata": {
        "raw_mimetype": "text/html"
      },
      "source": [
        "<p style=\"text-align: justify\">"
      ],
      "id": "eafbf7d8-a4c7-4754-9ec3-2c3a947846f2"
    },
    {
      "cell_type": "markdown",
      "metadata": {},
      "source": [
        "**P-values** and **hypothesis testing** form the backbone of inferential\n",
        "statistics. Hypothesis testing is used to determine if a given\n",
        "assumption (the **null hypothesis** $H_0$) about a population parameter\n",
        "is true or not."
      ],
      "id": "982d7cd8-8ec1-4fb5-8a38-fa21df297f4b"
    },
    {
      "cell_type": "raw",
      "metadata": {
        "raw_mimetype": "text/html"
      },
      "source": [
        "</p>"
      ],
      "id": "f10c3e42-61d6-4ff9-99b5-2a9964c6892d"
    },
    {
      "cell_type": "markdown",
      "metadata": {},
      "source": [
        "-   The **null hypothesis** $H_0$ typically suggests no effect or no\n",
        "    difference.\n",
        "-   The **alternative hypothesis** $H_1$ is the claim you want to test.\n",
        "\n",
        "The **p-value** is the probability of observing a result as extreme as,\n",
        "or more extreme than, the one obtained, assuming the null hypothesis is\n",
        "true. A small p-value (usually less than 0.05) indicates that the null\n",
        "hypothesis is unlikely, and we may reject it in favor of the alternative\n",
        "hypothesis.\n",
        "\n",
        "### Maximum Likelihood Estimation (MLE)"
      ],
      "id": "edc3383e-ad7b-4410-ba30-64a883304fad"
    },
    {
      "cell_type": "raw",
      "metadata": {
        "raw_mimetype": "text/html"
      },
      "source": [
        "<p style=\"text-align: justify\">"
      ],
      "id": "1289af3a-9cf9-455a-b726-cf2c6d17045a"
    },
    {
      "cell_type": "markdown",
      "metadata": {},
      "source": [
        "**Maximum Likelihood Estimation (MLE)** is a method for estimating the\n",
        "parameters of a statistical model. The idea behind MLE is to find the\n",
        "parameter values that maximize the likelihood function, which represents\n",
        "the probability of observing the given data under a particular model."
      ],
      "id": "60c5660f-5373-409a-ab2a-75cda14e55c2"
    },
    {
      "cell_type": "raw",
      "metadata": {
        "raw_mimetype": "text/html"
      },
      "source": [
        "</p>"
      ],
      "id": "acbfb0e0-270b-44c0-be3d-32255f25b307"
    },
    {
      "cell_type": "markdown",
      "metadata": {},
      "source": [
        "Given a parameter $\\theta$ and observed data $X$, the likelihood\n",
        "function is:\n",
        "\n",
        "$$\n",
        "L(\\theta | X) = P(X | \\theta)\n",
        "$$\n",
        "\n",
        "MLE finds the parameter $\\hat{\\theta}$ that maximizes this likelihood:\n",
        "\n",
        "$$\n",
        "\\hat{\\theta} = \\arg\\max_{\\theta} L(\\theta | X)\n",
        "$$\n",
        "\n",
        "MLE is widely used in statistical modeling, from simple linear\n",
        "regression to complex machine learning algorithms.\n",
        "\n",
        "### Maximum A Posteriori (MAP)\n",
        "\n",
        "While MLE focuses on maximizing the likelihood, **Maximum A Posteriori\n",
        "(MAP)** estimation incorporates prior information about the parameters.\n",
        "MAP is rooted in Bayesian statistics, where the goal is to find the\n",
        "parameter that maximizes the **posterior** distribution.\n",
        "\n",
        "The posterior is given by Bayes’ Theorem:\n",
        "\n",
        "$$\n",
        "P(\\theta | X) = \\frac{P(X | \\theta) P(\\theta)}{P(X)}\n",
        "$$\n",
        "\n",
        "MAP finds the parameter $\\hat{\\theta}_{\\text{MAP}}$ that maximizes the\n",
        "posterior probability:\n",
        "\n",
        "$$\n",
        "\\hat{\\theta}_{\\text{MAP}} = \\arg\\max_{\\theta} P(\\theta | X)\n",
        "$$\n",
        "\n",
        "Unlike MLE, MAP estimation incorporates the prior distribution\n",
        "$P(\\theta)$, making it more robust when prior knowledge is available\n",
        "\n",
        "------------------------------------------------------------------------\n",
        "\n",
        "**Share on**\n",
        "\n",
        "<a href=\"https://www.facebook.com/sharer.php?u=https://mrislambd.github.io/statandprob/posts/statisticaltalk/\" target=\"_blank\" style=\"color:#1877F2; text-decoration: none;\">\n",
        "\n",
        "</a>\n",
        "\n",
        "<a href=\"https://www.linkedin.com/sharing/share-offsite/?url=https://mrislambd.github.io/statandprob/posts/statisticaltalk/\" target=\"_blank\" style=\"color:#0077B5; text-decoration: none;\">\n",
        "\n",
        "</a>\n",
        "\n",
        "<a href=\"https://www.twitter.com/intent/tweet?url=https://mrislambd.github.io/statandprob/posts/statisticaltalk/\" target=\"_blank\" style=\"color:#1DA1F2; text-decoration: none;\">\n",
        "\n",
        "</a>"
      ],
      "id": "6b578d30-f4d3-45c6-b7dd-96deaf2129a6"
    },
    {
      "cell_type": "raw",
      "metadata": {
        "raw_mimetype": "text/html"
      },
      "source": [
        "<script src=\"https://giscus.app/client.js\"\n",
        "        data-repo=\"mrislambd/mrislambd.github.io\" \n",
        "        data-repo-id=\"R_kgDOMV8crA\"\n",
        "        data-category=\"Announcements\"\n",
        "        data-category-id=\"DIC_kwDOMV8crM4CjbQW\"\n",
        "        data-mapping=\"pathname\"\n",
        "        data-strict=\"0\"\n",
        "        data-reactions-enabled=\"1\"\n",
        "        data-emit-metadata=\"0\"\n",
        "        data-input-position=\"bottom\"\n",
        "        data-theme=\"light\"\n",
        "        data-lang=\"en\"\n",
        "        crossorigin=\"anonymous\"\n",
        "        async>\n",
        "</script>"
      ],
      "id": "41e0845d-f113-4264-81e1-fcd5c9c06c55"
    },
    {
      "cell_type": "markdown",
      "metadata": {},
      "source": [],
      "id": "667d35e1-110b-47be-b3c5-46429ff61891"
    },
    {
      "cell_type": "raw",
      "metadata": {
        "raw_mimetype": "text/html"
      },
      "source": [
        "<script async defer crossorigin=\"anonymous\"\n",
        " src=\"https://connect.facebook.net/en_US/sdk.js#xfbml=1&version=v20.0\"></script>"
      ],
      "id": "a778d2b3-ddd8-4479-8580-fe5b1da47ec4"
    },
    {
      "cell_type": "markdown",
      "metadata": {},
      "source": [
        "**You may also like**"
      ],
      "id": "d4e1da08-a58a-4b34-bcb9-979117ed02bd"
    }
  ],
  "nbformat": 4,
  "nbformat_minor": 5,
  "metadata": {
    "kernelspec": {
      "display_name": "Python 3",
      "language": "python",
      "name": "python3"
    }
  }
}