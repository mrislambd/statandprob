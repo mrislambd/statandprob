{
  "cells": [
    {
      "cell_type": "markdown",
      "metadata": {},
      "source": [
        "# Some Key Statistical Concepts for Interview Prep\n",
        "\n",
        "Rafiq Islam  \n",
        "2024-09-05"
      ],
      "id": "1237ca08-9606-400f-b1f5-a27c0f11e2b5"
    },
    {
      "cell_type": "raw",
      "metadata": {
        "raw_mimetype": "text/html"
      },
      "source": [
        "<p style=\"text-align:justify\">"
      ],
      "id": "af18864f-a3b4-43aa-b596-1dc889666251"
    },
    {
      "cell_type": "markdown",
      "metadata": {},
      "source": [
        "In the world of data analysis and machine learning, statistics plays a\n",
        "vital role in making sense of the data. Whether you’re estimating\n",
        "parameters, testing hypotheses, or understanding relationships between\n",
        "variables, statistical concepts guide how we interpret data. In this\n",
        "post, I want to summarise and collect some fundamental statistical ideas\n",
        "that are quite common and asked in many data science, machine learning,\n",
        "and quant interviews"
      ],
      "id": "c4b7e585-ce17-4efa-8325-fc9a29cd4c34"
    },
    {
      "cell_type": "raw",
      "metadata": {
        "raw_mimetype": "text/html"
      },
      "source": [
        "</p>"
      ],
      "id": "ac57b31a-8b23-4298-9c07-47205111fd6e"
    },
    {
      "cell_type": "markdown",
      "metadata": {},
      "source": [
        "## Basic Statistical Terminologies\n",
        "\n",
        "### The mean\n",
        "\n",
        "The **mean** is one of the most basic statistical concepts and\n",
        "represents the average value of a dataset. It’s calculated by summing\n",
        "all the values in a dataset and then dividing by the number of\n",
        "observations.\n",
        "\n",
        "Mathematically, for a set of discrete observations $x_1, x_2, ..., x_n$,\n",
        "the mean $\\mu$ or *Expected Value* is defined as:\n",
        "\n",
        "For a continuous random variable $X$, the mean  \n",
        "$$\n",
        "\\mu = \\mathbb{E}[X]=\\int_{-\\infty}^{\\infty}xf_X(x)dx\n",
        "$$"
      ],
      "id": "f232bc29-f710-4639-b8a2-3e0639d5aa19"
    },
    {
      "cell_type": "raw",
      "metadata": {
        "raw_mimetype": "text/html"
      },
      "source": [
        "<p style=\"text-align: justify\">"
      ],
      "id": "be69d606-498f-4653-abe9-4548b2078ef3"
    },
    {
      "cell_type": "markdown",
      "metadata": {},
      "source": [
        "where, $\\mathbb{P}(X=x)$ is the *probability mass function (pmf)* and\n",
        "$f_X(x)$ is the *probability density function (pdf)* of the random\n",
        "variable $X$, depending on whether it is discrete or contineous type.\n",
        "The mean helps describe the central tendency of data, but it can be\n",
        "sensitive to outliers."
      ],
      "id": "f741c768-f5a0-41d8-9c1b-820dced48368"
    },
    {
      "cell_type": "raw",
      "metadata": {
        "raw_mimetype": "text/html"
      },
      "source": [
        "</p>"
      ],
      "id": "0fae820f-51b2-4c10-baec-77874dbc0baf"
    },
    {
      "cell_type": "markdown",
      "metadata": {},
      "source": [
        "### Variance"
      ],
      "id": "5536aca7-c436-41b8-b8c8-aea045210eaa"
    },
    {
      "cell_type": "raw",
      "metadata": {
        "raw_mimetype": "text/html"
      },
      "source": [
        "<p style=\"text-align: justify\">"
      ],
      "id": "47ed10a1-fa91-4edc-957e-c2337cd4f86f"
    },
    {
      "cell_type": "markdown",
      "metadata": {},
      "source": [
        "**Variance** measures the spread or dispersion of a dataset relative to\n",
        "its mean. It tells us how far the individual data points are from the\n",
        "mean. A small variance indicates that data points are clustered closely\n",
        "around the mean, while a large variance means they are spread out."
      ],
      "id": "451ccf95-bcf5-4ce9-b9d5-c532bdf25d5a"
    },
    {
      "cell_type": "raw",
      "metadata": {
        "raw_mimetype": "text/html"
      },
      "source": [
        "</p>"
      ],
      "id": "4d3b6d83-e1f0-4056-80e6-c126918e8e92"
    },
    {
      "cell_type": "markdown",
      "metadata": {},
      "source": [
        "The formula for variance $\\sigma^2$ is:\n",
        "\n",
        "However, the population and sample variance formula are slightly\n",
        "different. For discrete observations, the sample variance is given as\n",
        "\n",
        "$$ s= \\frac{1}{n-1} \\sum_{i=1}^{n} (x_i - \\mu)^2$$\n",
        "\n",
        "Instead of dividing by $n$ we devide by $n-1$ to have the sample\n",
        "variance unbiased and bigger than the population variance so that it\n",
        "contains the true population variance.\n",
        "\n",
        "**Examples**\n",
        "\n",
        "1.  Normal Distribution with mean $\\mu$ and variance $\\sigma^2$ has the\n",
        "    pdf\n",
        "    $f_{X}(x)=\\frac{1}{\\sqrt{2\\pi \\sigma^2}}\\exp{\\left[-\\frac{(x-\\mu)^2}{2\\sigma^2}\\right]}$  \n",
        "2.  Standard Normal Distribution with mean $0$ and variance $1$ has the\n",
        "    pdf\n",
        "    $f_{X}(x)=\\frac{1}{\\sqrt{2\\pi \\sigma^2}}\\exp{\\left[-\\frac{x^2}{2}\\right]}$  \n",
        "3.  Now if $\\log X\\sim \\mathbfcal{N}(0,1)$ then what is the distribution\n",
        "    of $X$?\n",
        "\n",
        "### Covariance"
      ],
      "id": "c88bccfd-194f-43e1-b972-c3c9a13ece4b"
    },
    {
      "cell_type": "raw",
      "metadata": {
        "raw_mimetype": "text/html"
      },
      "source": [
        "<p style=\"text-align: justify\">"
      ],
      "id": "431bf2ad-ff45-4b56-9bb6-9ba71b54b914"
    },
    {
      "cell_type": "markdown",
      "metadata": {},
      "source": [
        "**Covariance** measures how two variables move together. If the\n",
        "covariance is positive, the two variables tend to increase or decrease\n",
        "together. If negative, one variable tends to increase when the other\n",
        "decreases."
      ],
      "id": "b0b971fb-b801-4526-8e89-83fda0b9bbe4"
    },
    {
      "cell_type": "raw",
      "metadata": {
        "raw_mimetype": "text/html"
      },
      "source": [
        "</p>"
      ],
      "id": "3af410b5-8ebe-4aed-9f7a-8ab1b1ec1fff"
    },
    {
      "cell_type": "markdown",
      "metadata": {},
      "source": [
        "The formula for covariance between two variables $X$ and $Y$ is:\n",
        "\n",
        "$$\n",
        "\\text{Cov}(X, Y) = \\frac{1}{n} \\sum_{i=1}^{n} (X_i - \\mu_X)(Y_i - \\mu_Y)\n",
        "$$\n",
        "\n",
        "However, covariance doesn’t indicate the strength of the relationship,\n",
        "which brings us to **correlation**.\n",
        "\n",
        "### Correlation"
      ],
      "id": "64866aee-0186-4082-b9f4-84269bb61b28"
    },
    {
      "cell_type": "raw",
      "metadata": {
        "raw_mimetype": "text/html"
      },
      "source": [
        "<p style=\"text-align: justify\">"
      ],
      "id": "d951cce6-1fce-4ef5-805d-2a17c1853abe"
    },
    {
      "cell_type": "markdown",
      "metadata": {},
      "source": [
        "**Correlation** is a standardized measure of the relationship between\n",
        "two variables. It ranges from $-1$ to $1$, where $1$ indicates a perfect\n",
        "positive relationship, $-1$ a perfect negative relationship, and $0$ no\n",
        "relationship."
      ],
      "id": "07e573d2-e140-426b-8322-18b72ef61ec9"
    },
    {
      "cell_type": "raw",
      "metadata": {
        "raw_mimetype": "text/html"
      },
      "source": [
        "</p>"
      ],
      "id": "bc818ee2-1e10-4ef1-ba6f-9032f98121cb"
    },
    {
      "cell_type": "markdown",
      "metadata": {},
      "source": [
        "The most common correlation metric is **Pearson correlation**, defined\n",
        "as:\n",
        "\n",
        "$$\n",
        "\\rho(X, Y) = \\frac{\\text{Cov}(X, Y)}{\\sigma_X \\sigma_Y}\n",
        "$$\n",
        "\n",
        "Unlike covariance, correlation gives a clearer picture of the strength\n",
        "and direction of a linear relationship between variables.\n",
        "\n",
        "### P-Values and Hypothesis Testing"
      ],
      "id": "49fadde2-1348-47d9-beed-e5bcc37ba3be"
    },
    {
      "cell_type": "raw",
      "metadata": {
        "raw_mimetype": "text/html"
      },
      "source": [
        "<p style=\"text-align: justify\">"
      ],
      "id": "b9e333e3-a598-434f-96b9-06897715a785"
    },
    {
      "cell_type": "markdown",
      "metadata": {},
      "source": [
        "**P-values** and **hypothesis testing** form the backbone of inferential\n",
        "statistics. Hypothesis testing is used to determine if a given\n",
        "assumption (the **null hypothesis** $H_0$) about a population parameter\n",
        "is true or not."
      ],
      "id": "d010667b-d864-4989-8588-d7296f978b21"
    },
    {
      "cell_type": "raw",
      "metadata": {
        "raw_mimetype": "text/html"
      },
      "source": [
        "</p>"
      ],
      "id": "46f0c88e-16fb-4918-83c1-965ae0d52934"
    },
    {
      "cell_type": "markdown",
      "metadata": {},
      "source": [
        "-   The **null hypothesis** $H_0$ typically suggests no effect or no\n",
        "    difference.\n",
        "-   The **alternative hypothesis** $H_1$ is the claim you want to test.\n",
        "\n",
        "The **p-value** is the probability of observing a result as extreme as,\n",
        "or more extreme than, the one obtained, assuming the null hypothesis is\n",
        "true. A small p-value (usually less than 0.05) indicates that the null\n",
        "hypothesis is unlikely, and we may reject it in favor of the alternative\n",
        "hypothesis.\n",
        "\n",
        "### Maximum Likelihood Estimation (MLE)"
      ],
      "id": "de9b4d91-a9d8-4c4e-92fb-9e27eb1130a8"
    },
    {
      "cell_type": "raw",
      "metadata": {
        "raw_mimetype": "text/html"
      },
      "source": [
        "<p style=\"text-align: justify\">"
      ],
      "id": "b35a3bb1-5d01-43c0-a5fc-5b08cc27c8cd"
    },
    {
      "cell_type": "markdown",
      "metadata": {},
      "source": [
        "**Maximum Likelihood Estimation (MLE)** is a method for estimating the\n",
        "parameters of a statistical model. The idea behind MLE is to find the\n",
        "parameter values that maximize the likelihood function, which represents\n",
        "the probability of observing the given data under a particular model."
      ],
      "id": "715b55dd-b566-4874-b00f-aa95d127bba2"
    },
    {
      "cell_type": "raw",
      "metadata": {
        "raw_mimetype": "text/html"
      },
      "source": [
        "</p>"
      ],
      "id": "eed48db0-6a72-452a-a183-24717ecb5c1e"
    },
    {
      "cell_type": "markdown",
      "metadata": {},
      "source": [
        "Given a parameter $\\theta$ and observed data $X$, the likelihood\n",
        "function is:\n",
        "\n",
        "$$\n",
        "L(\\theta | X) = P(X | \\theta)\n",
        "$$\n",
        "\n",
        "MLE finds the parameter $\\hat{\\theta}$ that maximizes this likelihood:\n",
        "\n",
        "$$\n",
        "\\hat{\\theta} = \\arg\\max_{\\theta} L(\\theta | X)\n",
        "$$\n",
        "\n",
        "MLE is widely used in statistical modeling, from simple linear\n",
        "regression to complex machine learning algorithms.\n",
        "\n",
        "### Maximum A Posteriori (MAP)\n",
        "\n",
        "While MLE focuses on maximizing the likelihood, **Maximum A Posteriori\n",
        "(MAP)** estimation incorporates prior information about the parameters.\n",
        "MAP is rooted in Bayesian statistics, where the goal is to find the\n",
        "parameter that maximizes the **posterior** distribution.\n",
        "\n",
        "The posterior is given by Bayes’ Theorem:\n",
        "\n",
        "$$\n",
        "P(\\theta | X) = \\frac{P(X | \\theta) P(\\theta)}{P(X)}\n",
        "$$\n",
        "\n",
        "MAP finds the parameter $\\hat{\\theta}_{\\text{MAP}}$ that maximizes the\n",
        "posterior probability:\n",
        "\n",
        "$$\n",
        "\\hat{\\theta}_{\\text{MAP}} = \\arg\\max_{\\theta} P(\\theta | X)\n",
        "$$\n",
        "\n",
        "Unlike MLE, MAP estimation incorporates the prior distribution\n",
        "$P(\\theta)$, making it more robust when prior knowledge is available\n",
        "\n",
        "------------------------------------------------------------------------\n",
        "\n",
        "**Share on**\n",
        "\n",
        "<a href=\"https://www.facebook.com/sharer.php?u=https://mrislambd.github.io/statandprob/posts/statisticaltalk/\" target=\"_blank\" style=\"color:#1877F2; text-decoration: none;\">\n",
        "\n",
        "</a>\n",
        "\n",
        "<a href=\"https://www.linkedin.com/sharing/share-offsite/?url=https://mrislambd.github.io/statandprob/posts/statisticaltalk/\" target=\"_blank\" style=\"color:#0077B5; text-decoration: none;\">\n",
        "\n",
        "</a>\n",
        "\n",
        "<a href=\"https://www.twitter.com/intent/tweet?url=https://mrislambd.github.io/statandprob/posts/statisticaltalk/\" target=\"_blank\" style=\"color:#1DA1F2; text-decoration: none;\">\n",
        "\n",
        "</a>"
      ],
      "id": "8d9c17ae-9786-406c-84a0-b0457bdb992e"
    },
    {
      "cell_type": "raw",
      "metadata": {
        "raw_mimetype": "text/html"
      },
      "source": [
        "<script src=\"https://giscus.app/client.js\"\n",
        "        data-repo=\"mrislambd/mrislambd.github.io\" \n",
        "        data-repo-id=\"R_kgDOMV8crA\"\n",
        "        data-category=\"Announcements\"\n",
        "        data-category-id=\"DIC_kwDOMV8crM4CjbQW\"\n",
        "        data-mapping=\"pathname\"\n",
        "        data-strict=\"0\"\n",
        "        data-reactions-enabled=\"1\"\n",
        "        data-emit-metadata=\"0\"\n",
        "        data-input-position=\"bottom\"\n",
        "        data-theme=\"light\"\n",
        "        data-lang=\"en\"\n",
        "        crossorigin=\"anonymous\"\n",
        "        async>\n",
        "</script>"
      ],
      "id": "64a289fd-ca67-4385-ac59-13fc2d49a2fc"
    },
    {
      "cell_type": "markdown",
      "metadata": {},
      "source": [],
      "id": "daad843c-2caa-471b-a53f-6e724b54a945"
    },
    {
      "cell_type": "raw",
      "metadata": {
        "raw_mimetype": "text/html"
      },
      "source": [
        "<script async defer crossorigin=\"anonymous\"\n",
        " src=\"https://connect.facebook.net/en_US/sdk.js#xfbml=1&version=v20.0\"></script>"
      ],
      "id": "a82e1926-d2e9-49e7-8f02-ffeda4ede81e"
    },
    {
      "cell_type": "markdown",
      "metadata": {},
      "source": [
        "**You may also like**"
      ],
      "id": "be60568e-cb96-45dd-aaa1-8471f5466362"
    }
  ],
  "nbformat": 4,
  "nbformat_minor": 5,
  "metadata": {
    "kernelspec": {
      "display_name": "Python 3",
      "language": "python",
      "name": "python3"
    }
  }
}