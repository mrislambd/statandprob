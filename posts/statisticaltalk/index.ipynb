{
  "cells": [
    {
      "cell_type": "markdown",
      "metadata": {},
      "source": [
        "# Some Key Statistical Concepts for Interview Prep\n",
        "\n",
        "Rafiq Islam  \n",
        "2024-05-09"
      ],
      "id": "6d383427-b9df-44ac-8eb3-b5ece376563e"
    },
    {
      "cell_type": "raw",
      "metadata": {
        "raw_mimetype": "text/html"
      },
      "source": [
        "<p style=\"text-align:justify\">"
      ],
      "id": "1c5f1c4d-65ee-4fff-aaeb-07f9fb01be17"
    },
    {
      "cell_type": "markdown",
      "metadata": {},
      "source": [
        "In the world of data analysis and machine learning, statistics plays a\n",
        "vital role in making sense of the data. Whether you’re estimating\n",
        "parameters, testing hypotheses, or understanding relationships between\n",
        "variables, statistical concepts guide how we interpret data. In this\n",
        "post, I want to summarise and collect some fundamental statistical ideas\n",
        "that are quite common and asked in many data science, machine learning,\n",
        "and quant interviews"
      ],
      "id": "3f154275-cb78-4cbb-a363-fb1ca73d0752"
    },
    {
      "cell_type": "raw",
      "metadata": {
        "raw_mimetype": "text/html"
      },
      "source": [
        "</p>"
      ],
      "id": "fb33cda2-a1c0-45e8-9a24-0b15ce8e0a55"
    },
    {
      "cell_type": "markdown",
      "metadata": {},
      "source": [
        "## Basic Statistical Terminologies\n",
        "\n",
        "### The mean\n",
        "\n",
        "The **mean** is one of the most basic statistical concepts and\n",
        "represents the average value of a dataset. It’s calculated by summing\n",
        "all the values in a dataset and then dividing by the number of\n",
        "observations.\n",
        "\n",
        "Mathematically, for a set of discrete observations $x_1, x_2, ..., x_n$,\n",
        "the mean $\\mu$ or *Expected Value* is defined as:\n",
        "\n",
        "For a continuous random variable $X$, the mean  \n",
        "$$\n",
        "\\mu = \\mathbb{E}[X]=\\int_{-\\infty}^{\\infty}xf_X(x)dx\n",
        "$$"
      ],
      "id": "aa5184b2-e28f-4d3e-bc54-01a2943df8c0"
    },
    {
      "cell_type": "raw",
      "metadata": {
        "raw_mimetype": "text/html"
      },
      "source": [
        "<p style=\"text-align: justify\">"
      ],
      "id": "dcef647a-959c-43e7-beb3-4ae419b93171"
    },
    {
      "cell_type": "markdown",
      "metadata": {},
      "source": [
        "where, $\\mathbb{P}(X=x)$ is the *probability mass function (pmf)* and\n",
        "$f_X(x)$ is the *probability density function (pdf)* of the random\n",
        "variable $X$, depending on whether it is discrete or contineous type.\n",
        "The mean helps describe the central tendency of data, but it can be\n",
        "sensitive to outliers."
      ],
      "id": "321bd9d0-530c-47a8-87a5-08fe2aea0dc0"
    },
    {
      "cell_type": "raw",
      "metadata": {
        "raw_mimetype": "text/html"
      },
      "source": [
        "</p>"
      ],
      "id": "1848fc95-c13a-4479-b6f1-6c0e5f4a3905"
    },
    {
      "cell_type": "markdown",
      "metadata": {},
      "source": [
        "### Variance"
      ],
      "id": "b940f872-9226-4f01-8d6b-75311a5d0f06"
    },
    {
      "cell_type": "raw",
      "metadata": {
        "raw_mimetype": "text/html"
      },
      "source": [
        "<p style=\"text-align: justify\">"
      ],
      "id": "e1595aa2-0399-4625-92ec-e38f750ca9e2"
    },
    {
      "cell_type": "markdown",
      "metadata": {},
      "source": [
        "**Variance** measures the spread or dispersion of a dataset relative to\n",
        "its mean. It tells us how far the individual data points are from the\n",
        "mean. A small variance indicates that data points are clustered closely\n",
        "around the mean, while a large variance means they are spread out."
      ],
      "id": "47ab7c49-b7b1-4c04-838e-328424dba871"
    },
    {
      "cell_type": "raw",
      "metadata": {
        "raw_mimetype": "text/html"
      },
      "source": [
        "</p>"
      ],
      "id": "86733f0c-bf75-4a19-bde8-7e9d8c44a792"
    },
    {
      "cell_type": "markdown",
      "metadata": {},
      "source": [
        "The formula for variance $\\sigma^2$ is:\n",
        "\n",
        "However, the population and sample variance formula are slightly\n",
        "different. For discrete observations, the sample variance is given as\n",
        "\n",
        "$$ s= \\frac{1}{n-1} \\sum_{i=1}^{n} (x_i - \\mu)^2$$\n",
        "\n",
        "Instead of dividing by $n$ we devide by $n-1$ to have the sample\n",
        "variance unbiased and bigger than the population variance so that it\n",
        "contains the true population variance.\n",
        "\n",
        "**Examples**\n",
        "\n",
        "1.  Normal Distribution with mean $\\mu$ and variance $\\sigma^2$ has the\n",
        "    pdf\n",
        "    $f_{X}(x)=\\frac{1}{\\sqrt{2\\pi \\sigma^2}}\\exp{\\left[-\\frac{(x-\\mu)^2}{2\\sigma^2}\\right]}$  \n",
        "2.  Standard Normal Distribution with mean $0$ and variance $1$ has the\n",
        "    pdf\n",
        "    $f_{X}(x)=\\frac{1}{\\sqrt{2\\pi \\sigma^2}}\\exp{\\left[-\\frac{x^2}{2}\\right]}$  \n",
        "3.  Now if $\\log X\\sim \\mathbfcal{N}(0,1)$ then what is the distribution\n",
        "    of $X$?\n",
        "\n",
        "### Covariance"
      ],
      "id": "92143b39-0613-4d4f-bf5e-89976bddfa7c"
    },
    {
      "cell_type": "raw",
      "metadata": {
        "raw_mimetype": "text/html"
      },
      "source": [
        "<p style=\"text-align: justify\">"
      ],
      "id": "c16f5cfd-4d00-4e9d-b715-b56d24f8cd9f"
    },
    {
      "cell_type": "markdown",
      "metadata": {},
      "source": [
        "**Covariance** measures how two variables move together. If the\n",
        "covariance is positive, the two variables tend to increase or decrease\n",
        "together. If negative, one variable tends to increase when the other\n",
        "decreases."
      ],
      "id": "d8a51b1e-416b-4688-8d3f-4a85078f79a8"
    },
    {
      "cell_type": "raw",
      "metadata": {
        "raw_mimetype": "text/html"
      },
      "source": [
        "</p>"
      ],
      "id": "c1c33a70-cb76-4718-913a-ee600f27a110"
    },
    {
      "cell_type": "markdown",
      "metadata": {},
      "source": [
        "The formula for covariance between two variables $X$ and $Y$ is:\n",
        "\n",
        "$$\n",
        "\\text{Cov}(X, Y) = \\frac{1}{n} \\sum_{i=1}^{n} (X_i - \\mu_X)(Y_i - \\mu_Y)\n",
        "$$\n",
        "\n",
        "However, covariance doesn’t indicate the strength of the relationship,\n",
        "which brings us to **correlation**.\n",
        "\n",
        "### Correlation"
      ],
      "id": "64a0a5d1-5840-4fe2-a65d-d2dfd1558134"
    },
    {
      "cell_type": "raw",
      "metadata": {
        "raw_mimetype": "text/html"
      },
      "source": [
        "<p style=\"text-align: justify\">"
      ],
      "id": "e83843e6-f2a1-4481-9546-4c3e5e9da0f8"
    },
    {
      "cell_type": "markdown",
      "metadata": {},
      "source": [
        "**Correlation** is a standardized measure of the relationship between\n",
        "two variables. It ranges from $-1$ to $1$, where $1$ indicates a perfect\n",
        "positive relationship, $-1$ a perfect negative relationship, and $0$ no\n",
        "relationship."
      ],
      "id": "56ea253d-70a5-4ac4-b237-399b97a65b81"
    },
    {
      "cell_type": "raw",
      "metadata": {
        "raw_mimetype": "text/html"
      },
      "source": [
        "</p>"
      ],
      "id": "948f6073-439b-4f2b-b501-8750d32cb7bd"
    },
    {
      "cell_type": "markdown",
      "metadata": {},
      "source": [
        "The most common correlation metric is **Pearson correlation**, defined\n",
        "as:\n",
        "\n",
        "$$\n",
        "\\rho(X, Y) = \\frac{\\text{Cov}(X, Y)}{\\sigma_X \\sigma_Y}\n",
        "$$\n",
        "\n",
        "Unlike covariance, correlation gives a clearer picture of the strength\n",
        "and direction of a linear relationship between variables.\n",
        "\n",
        "### P-Values and Hypothesis Testing"
      ],
      "id": "a7075c3e-547d-46a1-a5e9-785aae4d9a80"
    },
    {
      "cell_type": "raw",
      "metadata": {
        "raw_mimetype": "text/html"
      },
      "source": [
        "<p style=\"text-align: justify\">"
      ],
      "id": "c9f78039-9355-4a16-94ba-2184e08ff5f8"
    },
    {
      "cell_type": "markdown",
      "metadata": {},
      "source": [
        "**P-values** and **hypothesis testing** form the backbone of inferential\n",
        "statistics. Hypothesis testing is used to determine if a given\n",
        "assumption (the **null hypothesis** $H_0$) about a population parameter\n",
        "is true or not."
      ],
      "id": "283d0946-17fb-4e6f-9bdc-b90734be2df3"
    },
    {
      "cell_type": "raw",
      "metadata": {
        "raw_mimetype": "text/html"
      },
      "source": [
        "</p>"
      ],
      "id": "5b90ffa3-b2b9-4603-9d0b-16ca6fd8f651"
    },
    {
      "cell_type": "markdown",
      "metadata": {},
      "source": [
        "-   The **null hypothesis** $H_0$ typically suggests no effect or no\n",
        "    difference.\n",
        "-   The **alternative hypothesis** $H_1$ is the claim you want to test.\n",
        "\n",
        "The **p-value** is the probability of observing a result as extreme as,\n",
        "or more extreme than, the one obtained, assuming the null hypothesis is\n",
        "true. A small p-value (usually less than 0.05) indicates that the null\n",
        "hypothesis is unlikely, and we may reject it in favor of the alternative\n",
        "hypothesis.\n",
        "\n",
        "### Maximum Likelihood Estimation (MLE)"
      ],
      "id": "9ed9f4fe-a46b-4365-84ee-dbcaeb21df09"
    },
    {
      "cell_type": "raw",
      "metadata": {
        "raw_mimetype": "text/html"
      },
      "source": [
        "<p style=\"text-align: justify\">"
      ],
      "id": "776f11b6-6b4c-4d39-b3b0-dff6976af81a"
    },
    {
      "cell_type": "markdown",
      "metadata": {},
      "source": [
        "**Maximum Likelihood Estimation (MLE)** is a method for estimating the\n",
        "parameters of a statistical model. The idea behind MLE is to find the\n",
        "parameter values that maximize the likelihood function, which represents\n",
        "the probability of observing the given data under a particular model."
      ],
      "id": "54938359-7bcc-4b35-aeef-6c021f6f13a7"
    },
    {
      "cell_type": "raw",
      "metadata": {
        "raw_mimetype": "text/html"
      },
      "source": [
        "</p>"
      ],
      "id": "ac879c63-223b-49c0-8538-aa0a68b307da"
    },
    {
      "cell_type": "markdown",
      "metadata": {},
      "source": [
        "Given a parameter $\\theta$ and observed data $X$, the likelihood\n",
        "function is:\n",
        "\n",
        "$$\n",
        "L(\\theta | X) = P(X | \\theta)\n",
        "$$\n",
        "\n",
        "MLE finds the parameter $\\hat{\\theta}$ that maximizes this likelihood:\n",
        "\n",
        "$$\n",
        "\\hat{\\theta} = \\arg\\max_{\\theta} L(\\theta | X)\n",
        "$$\n",
        "\n",
        "MLE is widely used in statistical modeling, from simple linear\n",
        "regression to complex machine learning algorithms.\n",
        "\n",
        "### Maximum A Posteriori (MAP)\n",
        "\n",
        "While MLE focuses on maximizing the likelihood, **Maximum A Posteriori\n",
        "(MAP)** estimation incorporates prior information about the parameters.\n",
        "MAP is rooted in Bayesian statistics, where the goal is to find the\n",
        "parameter that maximizes the **posterior** distribution.\n",
        "\n",
        "The posterior is given by Bayes’ Theorem:\n",
        "\n",
        "$$\n",
        "P(\\theta | X) = \\frac{P(X | \\theta) P(\\theta)}{P(X)}\n",
        "$$\n",
        "\n",
        "MAP finds the parameter $\\hat{\\theta}_{\\text{MAP}}$ that maximizes the\n",
        "posterior probability:\n",
        "\n",
        "$$\n",
        "\\hat{\\theta}_{\\text{MAP}} = \\arg\\max_{\\theta} P(\\theta | X)\n",
        "$$\n",
        "\n",
        "Unlike MLE, MAP estimation incorporates the prior distribution\n",
        "$P(\\theta)$, making it more robust when prior knowledge is available\n",
        "\n",
        "------------------------------------------------------------------------\n",
        "\n",
        "**Share on**\n",
        "\n",
        "<a href=\"https://www.facebook.com/sharer.php?u=https://mrislambd.github.io/statandprob/posts/statisticaltalk/\" target=\"_blank\" style=\"color:#1877F2; text-decoration: none;\">\n",
        "\n",
        "</a>\n",
        "\n",
        "<a href=\"https://www.linkedin.com/sharing/share-offsite/?url=https://mrislambd.github.io/statandprob/posts/statisticaltalk/\" target=\"_blank\" style=\"color:#0077B5; text-decoration: none;\">\n",
        "\n",
        "</a>\n",
        "\n",
        "<a href=\"https://www.twitter.com/intent/tweet?url=https://mrislambd.github.io/statandprob/posts/statisticaltalk/\" target=\"_blank\" style=\"color:#1DA1F2; text-decoration: none;\">\n",
        "\n",
        "</a>"
      ],
      "id": "1dc3fff5-dc38-422e-af8e-ac755aa078c1"
    },
    {
      "cell_type": "raw",
      "metadata": {
        "raw_mimetype": "text/html"
      },
      "source": [
        "<script src=\"https://giscus.app/client.js\"\n",
        "        data-repo=\"mrislambd/mrislambd.github.io\" \n",
        "        data-repo-id=\"R_kgDOMV8crA\"\n",
        "        data-category=\"Announcements\"\n",
        "        data-category-id=\"DIC_kwDOMV8crM4CjbQW\"\n",
        "        data-mapping=\"pathname\"\n",
        "        data-strict=\"0\"\n",
        "        data-reactions-enabled=\"1\"\n",
        "        data-emit-metadata=\"0\"\n",
        "        data-input-position=\"bottom\"\n",
        "        data-theme=\"light\"\n",
        "        data-lang=\"en\"\n",
        "        crossorigin=\"anonymous\"\n",
        "        async>\n",
        "</script>"
      ],
      "id": "3725406d-54a1-4003-9594-5472fbbf59ac"
    },
    {
      "cell_type": "markdown",
      "metadata": {},
      "source": [],
      "id": "30d0f5ed-8d00-4e82-9ac3-e78c1fe6e1a6"
    },
    {
      "cell_type": "raw",
      "metadata": {
        "raw_mimetype": "text/html"
      },
      "source": [
        "<script async defer crossorigin=\"anonymous\"\n",
        " src=\"https://connect.facebook.net/en_US/sdk.js#xfbml=1&version=v20.0\"></script>"
      ],
      "id": "73616525-2bba-4aaa-a3cb-f496245e8474"
    },
    {
      "cell_type": "markdown",
      "metadata": {},
      "source": [
        "**You may also like**"
      ],
      "id": "8b80f279-21db-48a5-8c32-d35b31d40884"
    }
  ],
  "nbformat": 4,
  "nbformat_minor": 5,
  "metadata": {
    "kernelspec": {
      "display_name": "Python 3",
      "language": "python",
      "name": "python3"
    }
  }
}